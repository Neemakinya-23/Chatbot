{
 "cells": [
  {
   "cell_type": "code",
   "execution_count": 16,
   "id": "b2b82085-772f-4a52-81c8-91317125eccf",
   "metadata": {},
   "outputs": [
    {
     "name": "stdout",
     "output_type": "stream",
     "text": [
      "Collecting rapidfuzz\n",
      "  Downloading rapidfuzz-3.12.2-cp312-cp312-win_amd64.whl.metadata (12 kB)\n",
      "Downloading rapidfuzz-3.12.2-cp312-cp312-win_amd64.whl (1.6 MB)\n",
      "   ---------------------------------------- 0.0/1.6 MB ? eta -:--:--\n",
      "   ---------------------------------------- 0.0/1.6 MB ? eta -:--:--\n",
      "   ---------------------------------------- 0.0/1.6 MB ? eta -:--:--\n",
      "   ---------------------------------------- 0.0/1.6 MB ? eta -:--:--\n",
      "   ---------------------------------------- 0.0/1.6 MB ? eta -:--:--\n",
      "   ---------------------------------------- 0.0/1.6 MB ? eta -:--:--\n",
      "   ------ --------------------------------- 0.3/1.6 MB ? eta -:--:--\n",
      "   ------ --------------------------------- 0.3/1.6 MB ? eta -:--:--\n",
      "   ------ --------------------------------- 0.3/1.6 MB ? eta -:--:--\n",
      "   ------ --------------------------------- 0.3/1.6 MB ? eta -:--:--\n",
      "   ------------ --------------------------- 0.5/1.6 MB 356.7 kB/s eta 0:00:04\n",
      "   ------------ --------------------------- 0.5/1.6 MB 356.7 kB/s eta 0:00:04\n",
      "   ------------------- -------------------- 0.8/1.6 MB 447.3 kB/s eta 0:00:02\n",
      "   ------------------- -------------------- 0.8/1.6 MB 447.3 kB/s eta 0:00:02\n",
      "   ------------------- -------------------- 0.8/1.6 MB 447.3 kB/s eta 0:00:02\n",
      "   ------------------- -------------------- 0.8/1.6 MB 447.3 kB/s eta 0:00:02\n",
      "   ------------------- -------------------- 0.8/1.6 MB 447.3 kB/s eta 0:00:02\n",
      "   ------------------------- -------------- 1.0/1.6 MB 354.4 kB/s eta 0:00:02\n",
      "   ------------------------- -------------- 1.0/1.6 MB 354.4 kB/s eta 0:00:02\n",
      "   ------------------------- -------------- 1.0/1.6 MB 354.4 kB/s eta 0:00:02\n",
      "   ------------------------- -------------- 1.0/1.6 MB 354.4 kB/s eta 0:00:02\n",
      "   ------------------------- -------------- 1.0/1.6 MB 354.4 kB/s eta 0:00:02\n",
      "   ------------------------- -------------- 1.0/1.6 MB 354.4 kB/s eta 0:00:02\n",
      "   ------------------------- -------------- 1.0/1.6 MB 354.4 kB/s eta 0:00:02\n",
      "   ------------------------- -------------- 1.0/1.6 MB 354.4 kB/s eta 0:00:02\n",
      "   ------------------------- -------------- 1.0/1.6 MB 354.4 kB/s eta 0:00:02\n",
      "   ------------------------- -------------- 1.0/1.6 MB 354.4 kB/s eta 0:00:02\n",
      "   ------------------------- -------------- 1.0/1.6 MB 354.4 kB/s eta 0:00:02\n",
      "   -------------------------------- ------- 1.3/1.6 MB 233.0 kB/s eta 0:00:02\n",
      "   -------------------------------- ------- 1.3/1.6 MB 233.0 kB/s eta 0:00:02\n",
      "   -------------------------------- ------- 1.3/1.6 MB 233.0 kB/s eta 0:00:02\n",
      "   -------------------------------- ------- 1.3/1.6 MB 233.0 kB/s eta 0:00:02\n",
      "   -------------------------------- ------- 1.3/1.6 MB 233.0 kB/s eta 0:00:02\n",
      "   -------------------------------- ------- 1.3/1.6 MB 233.0 kB/s eta 0:00:02\n",
      "   -------------------------------- ------- 1.3/1.6 MB 233.0 kB/s eta 0:00:02\n",
      "   -------------------------------- ------- 1.3/1.6 MB 233.0 kB/s eta 0:00:02\n",
      "   -------------------------------- ------- 1.3/1.6 MB 233.0 kB/s eta 0:00:02\n",
      "   -------------------------------- ------- 1.3/1.6 MB 233.0 kB/s eta 0:00:02\n",
      "   -------------------------------- ------- 1.3/1.6 MB 233.0 kB/s eta 0:00:02\n",
      "   -------------------------------- ------- 1.3/1.6 MB 233.0 kB/s eta 0:00:02\n",
      "   -------------------------------- ------- 1.3/1.6 MB 233.0 kB/s eta 0:00:02\n",
      "   -------------------------------- ------- 1.3/1.6 MB 233.0 kB/s eta 0:00:02\n",
      "   -------------------------------- ------- 1.3/1.6 MB 233.0 kB/s eta 0:00:02\n",
      "   -------------------------------- ------- 1.3/1.6 MB 233.0 kB/s eta 0:00:02\n",
      "   -------------------------------- ------- 1.3/1.6 MB 233.0 kB/s eta 0:00:02\n",
      "   -------------------------------- ------- 1.3/1.6 MB 233.0 kB/s eta 0:00:02\n",
      "   -------------------------------- ------- 1.3/1.6 MB 233.0 kB/s eta 0:00:02\n",
      "   -------------------------------- ------- 1.3/1.6 MB 233.0 kB/s eta 0:00:02\n",
      "   -------------------------------- ------- 1.3/1.6 MB 233.0 kB/s eta 0:00:02\n",
      "   -------------------------------- ------- 1.3/1.6 MB 233.0 kB/s eta 0:00:02\n",
      "   -------------------------------- ------- 1.3/1.6 MB 233.0 kB/s eta 0:00:02\n",
      "   -------------------------------- ------- 1.3/1.6 MB 233.0 kB/s eta 0:00:02\n",
      "   -------------------------------- ------- 1.3/1.6 MB 233.0 kB/s eta 0:00:02\n",
      "   -------------------------------- ------- 1.3/1.6 MB 233.0 kB/s eta 0:00:02\n",
      "   -------------------------------- ------- 1.3/1.6 MB 233.0 kB/s eta 0:00:02\n",
      "   -------------------------------- ------- 1.3/1.6 MB 233.0 kB/s eta 0:00:02\n",
      "   -------------------------------- ------- 1.3/1.6 MB 233.0 kB/s eta 0:00:02\n",
      "   -------------------------------- ------- 1.3/1.6 MB 233.0 kB/s eta 0:00:02\n",
      "   -------------------------------- ------- 1.3/1.6 MB 233.0 kB/s eta 0:00:02\n",
      "   -------------------------------- ------- 1.3/1.6 MB 233.0 kB/s eta 0:00:02\n",
      "   -------------------------------- ------- 1.3/1.6 MB 233.0 kB/s eta 0:00:02\n",
      "   -------------------------------- ------- 1.3/1.6 MB 233.0 kB/s eta 0:00:02\n",
      "   -------------------------------- ------- 1.3/1.6 MB 233.0 kB/s eta 0:00:02\n",
      "   -------------------------------- ------- 1.3/1.6 MB 233.0 kB/s eta 0:00:02\n",
      "   -------------------------------- ------- 1.3/1.6 MB 233.0 kB/s eta 0:00:02\n",
      "   -------------------------------- ------- 1.3/1.6 MB 233.0 kB/s eta 0:00:02\n",
      "   -------------------------------- ------- 1.3/1.6 MB 233.0 kB/s eta 0:00:02\n",
      "   -------------------------------- ------- 1.3/1.6 MB 233.0 kB/s eta 0:00:02\n",
      "   -------------------------------- ------- 1.3/1.6 MB 233.0 kB/s eta 0:00:02\n",
      "   -------------------------------- ------- 1.3/1.6 MB 233.0 kB/s eta 0:00:02\n",
      "   -------------------------------- ------- 1.3/1.6 MB 233.0 kB/s eta 0:00:02\n",
      "   -------------------------------- ------- 1.3/1.6 MB 233.0 kB/s eta 0:00:02\n",
      "   -------------------------------- ------- 1.3/1.6 MB 233.0 kB/s eta 0:00:02\n",
      "   -------------------------------- ------- 1.3/1.6 MB 233.0 kB/s eta 0:00:02\n",
      "   -------------------------------- ------- 1.3/1.6 MB 233.0 kB/s eta 0:00:02\n",
      "   -------------------------------- ------- 1.3/1.6 MB 233.0 kB/s eta 0:00:02\n",
      "   -------------------------------- ------- 1.3/1.6 MB 233.0 kB/s eta 0:00:02\n",
      "   -------------------------------- ------- 1.3/1.6 MB 233.0 kB/s eta 0:00:02\n",
      "   -------------------------------- ------- 1.3/1.6 MB 233.0 kB/s eta 0:00:02\n",
      "   -------------------------------- ------- 1.3/1.6 MB 233.0 kB/s eta 0:00:02\n",
      "   -------------------------------- ------- 1.3/1.6 MB 233.0 kB/s eta 0:00:02\n",
      "   -------------------------------- ------- 1.3/1.6 MB 233.0 kB/s eta 0:00:02\n",
      "   -------------------------------- ------- 1.3/1.6 MB 233.0 kB/s eta 0:00:02\n",
      "   -------------------------------- ------- 1.3/1.6 MB 233.0 kB/s eta 0:00:02\n",
      "   -------------------------------- ------- 1.3/1.6 MB 233.0 kB/s eta 0:00:02\n",
      "   -------------------------------- ------- 1.3/1.6 MB 233.0 kB/s eta 0:00:02\n",
      "   -------------------------------- ------- 1.3/1.6 MB 233.0 kB/s eta 0:00:02\n",
      "   -------------------------------- ------- 1.3/1.6 MB 233.0 kB/s eta 0:00:02\n",
      "   -------------------------------- ------- 1.3/1.6 MB 233.0 kB/s eta 0:00:02\n",
      "   -------------------------------- ------- 1.3/1.6 MB 233.0 kB/s eta 0:00:02\n",
      "   -------------------------------- ------- 1.3/1.6 MB 233.0 kB/s eta 0:00:02\n",
      "   -------------------------------- ------- 1.3/1.6 MB 233.0 kB/s eta 0:00:02\n",
      "   -------------------------------- ------- 1.3/1.6 MB 233.0 kB/s eta 0:00:02\n",
      "   -------------------------------- ------- 1.3/1.6 MB 233.0 kB/s eta 0:00:02\n",
      "   -------------------------------- ------- 1.3/1.6 MB 233.0 kB/s eta 0:00:02\n",
      "   -------------------------------- ------- 1.3/1.6 MB 233.0 kB/s eta 0:00:02\n",
      "   -------------------------------- ------- 1.3/1.6 MB 233.0 kB/s eta 0:00:02\n",
      "   -------------------------------- ------- 1.3/1.6 MB 233.0 kB/s eta 0:00:02\n",
      "   -------------------------------- ------- 1.3/1.6 MB 233.0 kB/s eta 0:00:02\n",
      "   -------------------------------- ------- 1.3/1.6 MB 233.0 kB/s eta 0:00:02\n",
      "   -------------------------------- ------- 1.3/1.6 MB 233.0 kB/s eta 0:00:02\n",
      "   -------------------------------- ------- 1.3/1.6 MB 233.0 kB/s eta 0:00:02\n",
      "   -------------------------------- ------- 1.3/1.6 MB 233.0 kB/s eta 0:00:02\n",
      "   -------------------------------- ------- 1.3/1.6 MB 233.0 kB/s eta 0:00:02\n",
      "   -------------------------------- ------- 1.3/1.6 MB 233.0 kB/s eta 0:00:02\n",
      "   -------------------------------- ------- 1.3/1.6 MB 233.0 kB/s eta 0:00:02\n",
      "   -------------------------------- ------- 1.3/1.6 MB 233.0 kB/s eta 0:00:02\n",
      "   -------------------------------- ------- 1.3/1.6 MB 233.0 kB/s eta 0:00:02\n",
      "   -------------------------------- ------- 1.3/1.6 MB 233.0 kB/s eta 0:00:02\n",
      "   -------------------------------- ------- 1.3/1.6 MB 233.0 kB/s eta 0:00:02\n",
      "   -------------------------------- ------- 1.3/1.6 MB 233.0 kB/s eta 0:00:02\n",
      "   -------------------------------- ------- 1.3/1.6 MB 233.0 kB/s eta 0:00:02\n",
      "   -------------------------------- ------- 1.3/1.6 MB 233.0 kB/s eta 0:00:02\n",
      "   -------------------------------- ------- 1.3/1.6 MB 233.0 kB/s eta 0:00:02\n",
      "   -------------------------------- ------- 1.3/1.6 MB 233.0 kB/s eta 0:00:02\n",
      "   -------------------------------- ------- 1.3/1.6 MB 233.0 kB/s eta 0:00:02\n",
      "   -------------------------------- ------- 1.3/1.6 MB 233.0 kB/s eta 0:00:02\n",
      "   -------------------------------- ------- 1.3/1.6 MB 233.0 kB/s eta 0:00:02\n",
      "   -------------------------------- ------- 1.3/1.6 MB 233.0 kB/s eta 0:00:02\n",
      "   -------------------------------- ------- 1.3/1.6 MB 233.0 kB/s eta 0:00:02\n",
      "   -------------------------------- ------- 1.3/1.6 MB 233.0 kB/s eta 0:00:02\n",
      "   -------------------------------- ------- 1.3/1.6 MB 233.0 kB/s eta 0:00:02\n",
      "   -------------------------------- ------- 1.3/1.6 MB 233.0 kB/s eta 0:00:02\n",
      "   -------------------------------- ------- 1.3/1.6 MB 233.0 kB/s eta 0:00:02\n",
      "   -------------------------------- ------- 1.3/1.6 MB 233.0 kB/s eta 0:00:02\n",
      "   -------------------------------- ------- 1.3/1.6 MB 233.0 kB/s eta 0:00:02\n",
      "   -------------------------------- ------- 1.3/1.6 MB 233.0 kB/s eta 0:00:02\n",
      "   -------------------------------- ------- 1.3/1.6 MB 233.0 kB/s eta 0:00:02\n",
      "   -------------------------------- ------- 1.3/1.6 MB 233.0 kB/s eta 0:00:02\n",
      "   -------------------------------- ------- 1.3/1.6 MB 233.0 kB/s eta 0:00:02\n",
      "   -------------------------------- ------- 1.3/1.6 MB 233.0 kB/s eta 0:00:02\n",
      "   -------------------------------- ------- 1.3/1.6 MB 233.0 kB/s eta 0:00:02\n",
      "   -------------------------------- ------- 1.3/1.6 MB 233.0 kB/s eta 0:00:02\n",
      "   -------------------------------- ------- 1.3/1.6 MB 233.0 kB/s eta 0:00:02\n",
      "   -------------------------------- ------- 1.3/1.6 MB 233.0 kB/s eta 0:00:02\n",
      "   -------------------------------- ------- 1.3/1.6 MB 233.0 kB/s eta 0:00:02\n",
      "   -------------------------------- ------- 1.3/1.6 MB 233.0 kB/s eta 0:00:02\n",
      "   -------------------------------- ------- 1.3/1.6 MB 233.0 kB/s eta 0:00:02\n",
      "   -------------------------------------- - 1.6/1.6 MB 48.0 kB/s eta 0:00:01\n",
      "   -------------------------------------- - 1.6/1.6 MB 48.0 kB/s eta 0:00:01\n",
      "   -------------------------------------- - 1.6/1.6 MB 48.0 kB/s eta 0:00:01\n",
      "   -------------------------------------- - 1.6/1.6 MB 48.0 kB/s eta 0:00:01\n",
      "   -------------------------------------- - 1.6/1.6 MB 48.0 kB/s eta 0:00:01\n",
      "   -------------------------------------- - 1.6/1.6 MB 48.0 kB/s eta 0:00:01\n",
      "   -------------------------------------- - 1.6/1.6 MB 48.0 kB/s eta 0:00:01\n",
      "   -------------------------------------- - 1.6/1.6 MB 48.0 kB/s eta 0:00:01\n",
      "   -------------------------------------- - 1.6/1.6 MB 48.0 kB/s eta 0:00:01\n",
      "   -------------------------------------- - 1.6/1.6 MB 48.0 kB/s eta 0:00:01\n",
      "   -------------------------------------- - 1.6/1.6 MB 48.0 kB/s eta 0:00:01\n",
      "   -------------------------------------- - 1.6/1.6 MB 48.0 kB/s eta 0:00:01\n",
      "   -------------------------------------- - 1.6/1.6 MB 48.0 kB/s eta 0:00:01\n",
      "   -------------------------------------- - 1.6/1.6 MB 48.0 kB/s eta 0:00:01\n",
      "   -------------------------------------- - 1.6/1.6 MB 48.0 kB/s eta 0:00:01\n",
      "   -------------------------------------- - 1.6/1.6 MB 48.0 kB/s eta 0:00:01\n",
      "   -------------------------------------- - 1.6/1.6 MB 48.0 kB/s eta 0:00:01\n",
      "   -------------------------------------- - 1.6/1.6 MB 48.0 kB/s eta 0:00:01\n",
      "   -------------------------------------- - 1.6/1.6 MB 48.0 kB/s eta 0:00:01\n",
      "   -------------------------------------- - 1.6/1.6 MB 48.0 kB/s eta 0:00:01\n",
      "   -------------------------------------- - 1.6/1.6 MB 48.0 kB/s eta 0:00:01\n",
      "   -------------------------------------- - 1.6/1.6 MB 48.0 kB/s eta 0:00:01\n",
      "   -------------------------------------- - 1.6/1.6 MB 48.0 kB/s eta 0:00:01\n",
      "   -------------------------------------- - 1.6/1.6 MB 48.0 kB/s eta 0:00:01\n",
      "   -------------------------------------- - 1.6/1.6 MB 48.0 kB/s eta 0:00:01\n",
      "   -------------------------------------- - 1.6/1.6 MB 48.0 kB/s eta 0:00:01\n",
      "   -------------------------------------- - 1.6/1.6 MB 48.0 kB/s eta 0:00:01\n",
      "   ---------------------------------------- 1.6/1.6 MB 10.9 kB/s eta 0:00:00\n",
      "Installing collected packages: rapidfuzz\n",
      "Successfully installed rapidfuzz-3.12.2\n"
     ]
    }
   ],
   "source": [
    "!pip install rapidfuzz\n"
   ]
  },
  {
   "cell_type": "code",
   "execution_count": 17,
   "id": "4a0a96c6-c835-4b2f-a65b-a4e65640e0f9",
   "metadata": {},
   "outputs": [],
   "source": [
    "import pandas as pd\n",
    "from rapidfuzz import process"
   ]
  },
  {
   "cell_type": "code",
   "execution_count": 21,
   "id": "b0147ab1-2079-4295-a187-ab1fe93e6c74",
   "metadata": {},
   "outputs": [],
   "source": [
    "def wrangle(filepath):\n",
    "    df = pd.read_csv(filepath)\n",
    "    \n",
    "    #Drop unnecessary columns\n",
    "    df = df.drop(columns = [\"ID\",\n",
    "                        \"Topic\",\n",
    "                       \"Subtopic\"\n",
    "                      ])\n",
    "    \n",
    "    return df"
   ]
  },
  {
   "cell_type": "code",
   "execution_count": 24,
   "id": "adb368ee-f22a-47a8-b0ae-9fbc9e4274ab",
   "metadata": {},
   "outputs": [
    {
     "name": "stdout",
     "output_type": "stream",
     "text": [
      "                            Question  \\\n",
      "0            Where Tesco delivers to   \n",
      "1  Delivery and Click+Collect prices   \n",
      "2                Minimum order value   \n",
      "3                  Returning an item   \n",
      "4             Slot times and options   \n",
      "\n",
      "                                              Answer  \n",
      "0  We deliver to most UK residential addresses. T...  \n",
      "1  The standard delivery charge is between £3–£7,...  \n",
      "2  A £5 minimum basket charge will be added to de...  \n",
      "3                     Please see our returns policy.  \n",
      "4  You can choose to get your shopping delivered ...  \n"
     ]
    }
   ],
   "source": [
    "# Load the FAQ dataset\n",
    "df = wrangle(\"C:/Users/HP/Documents/ML and AI/Tesco_ grocery_FAQ'S.csv\")\n",
    "print(df.head())"
   ]
  },
  {
   "cell_type": "code",
   "execution_count": 26,
   "id": "6d3dae0a-0e16-4df8-9a04-48ba3c866c1e",
   "metadata": {},
   "outputs": [
    {
     "name": "stdin",
     "output_type": "stream",
     "text": [
      "You:  where tesco delivers\n"
     ]
    },
    {
     "name": "stdout",
     "output_type": "stream",
     "text": [
      "Bot: We deliver to most UK residential addresses. To check whether we deliver to your address, register your account, visit the grocery homepage, and book your delivery.\n",
      "If for some reason, we’re unable to deliver to your address, you can still use our Click+Collect service.\n"
     ]
    },
    {
     "name": "stdin",
     "output_type": "stream",
     "text": [
      "You:  minimum order value\n"
     ]
    },
    {
     "name": "stdout",
     "output_type": "stream",
     "text": [
      "Bot: A £5 minimum basket charge will be added to delivery orders at the checkout, where the basket value is under our £50 minimum basket value.\n",
      "You won’t incur this charge in the following situations:\n",
      "Your final basket is over the £50 minimum basket value.\n",
      "You make changes to your order after you’ve checked out and the final basket is over the threshold.\n",
      "If any substitutions are made to your order which result in your basket dropping below the threshold.\n",
      "If you've incurred the minimum basket charge, you‘ll earn Clubcard points on the charge. This will also apply if you have a Delivery Saver plan – learn more about this below.\n",
      "The minimum order value for Click+Collect orders is £25 in all stores. If your order is below this threshold, you’ll be charged the £5 minimum basket charge.\n",
      "You won’t incur this charge in the following situations:\n",
      "Your final basket is over the threshold for your Click+Collect location.\n",
      "You make changes to your order after you’ve checked out and the final basket is over the threshold.\n",
      "If any substitutions are made to your order which result in your basket dropping below the threshold.\n",
      "If you’ve incurred the minimum basket charge, you’ll earn Clubcard points on the charge. This will also apply if you have a Delivery Saver plan.\n",
      "It’s all part of the (Delivery Saver) plan\n",
      "Our subscription-based delivery service reduces the cost of deliveries and collections for your groceries. Depending on which Delivery Saver plan you sign up to, as long as you stay above the minimum basket threshold, orders will be delivered without charge during the times or days outlined in your chosen plan. You can do that once per day for every day your plan is valid.\n",
      "And with the Delivery Saver Guarantee, if your plan doesn’t save you money, we’ll give you an eCoupon for the difference. For more info and to sign up, go to our Delivery Saver website.\n"
     ]
    },
    {
     "name": "stdin",
     "output_type": "stream",
     "text": [
      "You:  i would like to return an item\n"
     ]
    },
    {
     "name": "stdout",
     "output_type": "stream",
     "text": [
      "Bot: Please see our returns policy.\n"
     ]
    },
    {
     "name": "stdin",
     "output_type": "stream",
     "text": [
      "You:  slot's time\n"
     ]
    },
    {
     "name": "stdout",
     "output_type": "stream",
     "text": [
      "Bot: We’ve included extra delivery time at the door for bagless orders, so there is no need to rush your unpacking.\n",
      "We recommend having your own bags or boxes ready at the door to pack into. If you’ve not got these at the door, don’t worry, there’s always time to grab them.\n",
      "\n"
     ]
    },
    {
     "name": "stdin",
     "output_type": "stream",
     "text": [
      "You:  ok\n"
     ]
    },
    {
     "name": "stdout",
     "output_type": "stream",
     "text": [
      "Bot: Goodbye!\n"
     ]
    }
   ],
   "source": [
    "# Convert dataframe to dictionary for quick lookup\n",
    "faq_dict = {row[\"Question\"]: row[\"Answer\"] for _, row in df.iterrows()}\n",
    "\n",
    "# Function to find the best-matching response using fuzzy search\n",
    "def get_response(user_input):\n",
    "    best_match, score, _ = process.extractOne(user_input, faq_dict.keys())  # Find closest question\n",
    "    if score > 80:  # Only return an answer if similarity is high enough\n",
    "        return faq_dict[best_match]\n",
    "    return \"I'm sorry, I don't have an answer for that.\"\n",
    "\n",
    "# Chatbot loop\n",
    "while True:\n",
    "    request = input('You: ')\n",
    "    \n",
    "    if request.lower() in ['ok', 'bye', 'exit']:\n",
    "        print('Bot: Goodbye!')\n",
    "        break\n",
    "    else:\n",
    "        response = get_response(request)\n",
    "        print('Bot:', response)\n"
   ]
  },
  {
   "cell_type": "code",
   "execution_count": null,
   "id": "f170731e-734d-4a26-987e-e422d388def9",
   "metadata": {},
   "outputs": [],
   "source": []
  }
 ],
 "metadata": {
  "kernelspec": {
   "display_name": "Python 3 (ipykernel)",
   "language": "python",
   "name": "python3"
  },
  "language_info": {
   "codemirror_mode": {
    "name": "ipython",
    "version": 3
   },
   "file_extension": ".py",
   "mimetype": "text/x-python",
   "name": "python",
   "nbconvert_exporter": "python",
   "pygments_lexer": "ipython3",
   "version": "3.12.7"
  }
 },
 "nbformat": 4,
 "nbformat_minor": 5
}
